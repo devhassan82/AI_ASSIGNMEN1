{
  "cells": [
    {
      "cell_type": "code",
      "execution_count": 1,
      "metadata": {
        "colab": {
          "base_uri": "https://localhost:8080/"
        },
        "id": "XwS3JKt-U1CE",
        "outputId": "ab91dffe-f49d-495e-d93f-c6218f3adcd1"
      },
      "outputs": [
        {
          "output_type": "stream",
          "name": "stdout",
          "text": [
            "Mounted at /content/drive\n"
          ]
        }
      ],
      "source": [
        "#My dataset is available in googledrive; so I am accessing my drive from colab\n",
        "from google.colab import drive\n",
        "drive.mount('/content/drive', force_remount=True)\n",
        "#Once this is executed, you will see your drive appearing on the left hand side"
      ]
    },
    {
      "cell_type": "code",
      "execution_count": 2,
      "metadata": {
        "id": "SMPHESYVVnzp"
      },
      "outputs": [],
      "source": [
        "# Define paths to the dataset\n",
        "train_dir = '/content/drive/MyDrive/train'  # Update with your actual path\n",
        "test_dir = '/content/drive/MyDrive/test'    # Update with your actual path"
      ]
    },
    {
      "cell_type": "code",
      "execution_count": 3,
      "metadata": {
        "colab": {
          "base_uri": "https://localhost:8080/"
        },
        "id": "wwfZiLtU6Ruq",
        "outputId": "0df9d8e6-2557-4902-8588-d33a989c83b4"
      },
      "outputs": [
        {
          "output_type": "stream",
          "name": "stdout",
          "text": [
            "500\n",
            "486\n",
            "128\n",
            "128\n"
          ]
        }
      ],
      "source": [
        "import os\n",
        "print(len(os.listdir('/content/drive/MyDrive/train/horses')))\n",
        "print(len(os.listdir('/content/drive/MyDrive/train/humans')))\n",
        "print(len(os.listdir('/content/drive/MyDrive/test/horses')))\n",
        "print(len(os.listdir('/content/drive/MyDrive/test/humans')))"
      ]
    },
    {
      "cell_type": "code",
      "execution_count": 4,
      "metadata": {
        "colab": {
          "base_uri": "https://localhost:8080/"
        },
        "id": "kf8li3JNUJR1",
        "outputId": "e9fcbff9-0129-42c4-f05b-b818a36635d0"
      },
      "outputs": [
        {
          "output_type": "stream",
          "name": "stdout",
          "text": [
            "Found 789 images belonging to 2 classes.\n",
            "Found 50 images belonging to 2 classes.\n"
          ]
        }
      ],
      "source": [
        "import tensorflow as tf\n",
        "from tensorflow.keras.preprocessing.image import ImageDataGenerator\n",
        "\n",
        "# Create ImageDataGenerator for training set\n",
        "train_datagen = ImageDataGenerator(\n",
        "    rescale=1./255,\n",
        "    validation_split=0.2  # Split 20% of the images for validation\n",
        ")\n",
        "\n",
        "# Load and prepare training data\n",
        "train_data = train_datagen.flow_from_directory(\n",
        "    train_dir,\n",
        "    target_size=(256,256),\n",
        "    batch_size=32,\n",
        "    class_mode='binary',  # 'binary' for binary classification (horses vs. humans)\n",
        "    subset='training'  # Specify 'training' for the training set\n",
        ")\n",
        "\n",
        "# Create ImageDataGenerator for validation set\n",
        "validation_datagen = ImageDataGenerator(\n",
        "    rescale=1./255,\n",
        "    validation_split=0.2  # Note: Using the same validation split as in the training set\n",
        ")\n",
        "\n",
        "# Load and prepare validation data\n",
        "validation_data = validation_datagen.flow_from_directory(\n",
        "    test_dir,\n",
        "    target_size=(256,256),\n",
        "    batch_size=32,\n",
        "    class_mode='binary',\n",
        "    subset='validation'  # Specify 'validation' for the validation set\n",
        ")"
      ]
    },
    {
      "cell_type": "code",
      "execution_count": 5,
      "metadata": {
        "id": "wGp6oIfQWMFh"
      },
      "outputs": [],
      "source": [
        "from tensorflow import keras\n",
        "from keras import Sequential\n",
        "from keras.layers import Dense,Conv2D,MaxPooling2D,Flatten,BatchNormalization,UpSampling2D, Dropout"
      ]
    },
    {
      "cell_type": "code",
      "execution_count": 6,
      "metadata": {
        "id": "6liLEEzLWNB5"
      },
      "outputs": [],
      "source": [
        "# create CNN model\n",
        "\n",
        "model = Sequential()\n",
        "\n",
        "model.add(Conv2D(32,kernel_size=(3,3),padding='valid',activation='relu',input_shape=(256,256,3)))  # 32 filters\n",
        "#model.add(BatchNormalization())  # added to reduce overfitting\n",
        "model.add(MaxPooling2D(pool_size=(2,2),strides=2,padding='valid'))\n",
        "\n",
        "model.add(Conv2D(64,kernel_size=(3,3),padding='valid',activation='relu'))\n",
        "#model.add(BatchNormalization())  # added to reduce overfitting\n",
        "model.add(MaxPooling2D(pool_size=(2,2),strides=2,padding='valid'))\n",
        "\n",
        "model.add(Conv2D(128,kernel_size=(3,3),padding='valid',activation='relu'))\n",
        "#model.add(BatchNormalization())  # added to reduce overfitting\n",
        "model.add(MaxPooling2D(pool_size=(2,2),strides=2,padding='valid'))\n",
        "\n",
        "model.add(Flatten())\n",
        "\n",
        "model.add(Dense(128,activation='relu')) #feature reduction\n",
        "#model.add(Dropout(0.1))  # added to reduce overfitting\n",
        "model.add(Dense(64,activation='relu'))\n",
        "#model.add(Dropout(0.1))  # added to reduce overfitting\n",
        "model.add(Dense(1,activation='sigmoid'))  #output layer"
      ]
    },
    {
      "cell_type": "code",
      "execution_count": 7,
      "metadata": {
        "id": "SeBjyn0iWXgY"
      },
      "outputs": [],
      "source": [
        "from keras.optimizers import Adam\n",
        "model.compile(optimizer=Adam(learning_rate=0.001),loss='binary_crossentropy',metrics=['accuracy']) #binary_crossentropy - binary classification"
      ]
    },
    {
      "cell_type": "code",
      "execution_count": 8,
      "metadata": {
        "colab": {
          "base_uri": "https://localhost:8080/"
        },
        "id": "lGbY2VpIWbTt",
        "outputId": "f569a903-8e4b-40c6-f11c-bc16d6b93d62"
      },
      "outputs": [
        {
          "output_type": "stream",
          "name": "stdout",
          "text": [
            "Epoch 1/20\n",
            "25/25 [==============================] - 171s 7s/step - loss: 0.5855 - accuracy: 0.7681 - val_loss: 1.2565 - val_accuracy: 0.8200\n",
            "Epoch 2/20\n",
            "25/25 [==============================] - 148s 6s/step - loss: 0.1671 - accuracy: 0.9430 - val_loss: 1.4940 - val_accuracy: 0.8400\n",
            "Epoch 3/20\n",
            "25/25 [==============================] - 146s 6s/step - loss: 0.0750 - accuracy: 0.9721 - val_loss: 1.5689 - val_accuracy: 0.8800\n",
            "Epoch 4/20\n",
            "25/25 [==============================] - 147s 6s/step - loss: 0.0170 - accuracy: 0.9949 - val_loss: 1.3820 - val_accuracy: 0.9200\n",
            "Epoch 5/20\n",
            "25/25 [==============================] - 153s 6s/step - loss: 0.0081 - accuracy: 0.9975 - val_loss: 2.6563 - val_accuracy: 0.8400\n",
            "Epoch 6/20\n",
            "25/25 [==============================] - 145s 6s/step - loss: 0.0277 - accuracy: 0.9886 - val_loss: 5.0659 - val_accuracy: 0.7600\n",
            "Epoch 7/20\n",
            "25/25 [==============================] - 148s 6s/step - loss: 0.0527 - accuracy: 0.9873 - val_loss: 1.5397 - val_accuracy: 0.9200\n",
            "Epoch 8/20\n",
            "25/25 [==============================] - 147s 6s/step - loss: 0.0028 - accuracy: 1.0000 - val_loss: 2.0119 - val_accuracy: 0.9200\n",
            "Epoch 9/20\n",
            "25/25 [==============================] - 149s 6s/step - loss: 9.5183e-05 - accuracy: 1.0000 - val_loss: 2.2090 - val_accuracy: 0.9200\n",
            "Epoch 10/20\n",
            "25/25 [==============================] - 156s 6s/step - loss: 1.7453e-04 - accuracy: 1.0000 - val_loss: 2.3113 - val_accuracy: 0.9200\n",
            "Epoch 11/20\n",
            "25/25 [==============================] - 144s 6s/step - loss: 5.3692e-05 - accuracy: 1.0000 - val_loss: 2.4379 - val_accuracy: 0.9200\n",
            "Epoch 12/20\n",
            "25/25 [==============================] - 149s 6s/step - loss: 2.2220e-05 - accuracy: 1.0000 - val_loss: 2.3959 - val_accuracy: 0.9200\n",
            "Epoch 13/20\n",
            "25/25 [==============================] - 152s 6s/step - loss: 1.2696e-05 - accuracy: 1.0000 - val_loss: 2.4243 - val_accuracy: 0.9200\n",
            "Epoch 14/20\n",
            "25/25 [==============================] - 154s 6s/step - loss: 1.0480e-05 - accuracy: 1.0000 - val_loss: 2.4592 - val_accuracy: 0.9200\n",
            "Epoch 15/20\n",
            "25/25 [==============================] - 147s 6s/step - loss: 8.7737e-06 - accuracy: 1.0000 - val_loss: 2.4854 - val_accuracy: 0.9200\n",
            "Epoch 16/20\n",
            "25/25 [==============================] - 145s 6s/step - loss: 7.5832e-06 - accuracy: 1.0000 - val_loss: 2.6086 - val_accuracy: 0.9200\n",
            "Epoch 17/20\n",
            "25/25 [==============================] - 143s 6s/step - loss: 3.1673e-06 - accuracy: 1.0000 - val_loss: 2.8404 - val_accuracy: 0.9200\n",
            "Epoch 18/20\n",
            "25/25 [==============================] - 151s 6s/step - loss: 2.4836e-06 - accuracy: 1.0000 - val_loss: 2.9668 - val_accuracy: 0.9200\n",
            "Epoch 19/20\n",
            "25/25 [==============================] - 149s 6s/step - loss: 1.0240e-06 - accuracy: 1.0000 - val_loss: 3.0201 - val_accuracy: 0.9200\n",
            "Epoch 20/20\n",
            "25/25 [==============================] - 146s 6s/step - loss: 8.4580e-07 - accuracy: 1.0000 - val_loss: 3.0908 - val_accuracy: 0.9200\n"
          ]
        }
      ],
      "source": [
        "history = model.fit(train_data, epochs=20, validation_data=validation_data)"
      ]
    },
    {
      "cell_type": "code",
      "execution_count": 9,
      "metadata": {
        "id": "g21dMlSOWKas",
        "colab": {
          "base_uri": "https://localhost:8080/",
          "height": 430
        },
        "outputId": "78c26545-a27c-461e-d723-0fc190dbcc09"
      },
      "outputs": [
        {
          "output_type": "display_data",
          "data": {
            "text/plain": [
              "<Figure size 640x480 with 1 Axes>"
            ],
            "image/png": "[encoded data removed]"
          },
          "metadata": {}
        }
      ],
      "source": [
        "import matplotlib.pyplot as plt\n",
        "\n",
        "plt.plot(history.history['accuracy'],color='red',label='train')\n",
        "plt.plot(history.history['val_accuracy'],color='blue',label='validation')\n",
        "plt.legend()\n",
        "plt.show()"
      ]
    },
    {
      "cell_type": "code",
      "execution_count": 10,
      "metadata": {
        "id": "FYZ0VJp4esXl",
        "colab": {
          "base_uri": "https://localhost:8080/",
          "height": 430
        },
        "outputId": "faad556d-25fd-498a-a15a-ca90efbc9955"
      },
      "outputs": [
        {
          "output_type": "display_data",
          "data": {
            "text/plain": [
              "<Figure size 640x480 with 1 Axes>"
            ],
            "image/png": "[encoded data removed]"
          },
          "metadata": {}
        }
      ],
      "source": [
        "plt.plot(history.history['loss'],color='red',label='train')\n",
        "plt.plot(history.history['val_loss'],color='blue',label='validation')\n",
        "plt.legend()\n",
        "plt.show()"
      ]
    },
    {
      "cell_type": "code",
      "execution_count": 11,
      "metadata": {
        "id": "tQj_RyrZWBEt",
        "colab": {
          "base_uri": "https://localhost:8080/"
        },
        "outputId": "40e42922-8d9d-4d43-856a-9a4258a206ff"
      },
      "outputs": [
        {
          "output_type": "stream",
          "name": "stdout",
          "text": [
            "Found 256 images belonging to 2 classes.\n"
          ]
        }
      ],
      "source": [
        "test_datagen = ImageDataGenerator(rescale=1./255)\n",
        "test_data = test_datagen.flow_from_directory(\n",
        "    test_dir,\n",
        "    target_size=(256,256),\n",
        "    batch_size=32,\n",
        "    class_mode='binary'\n",
        ")"
      ]
    },
    {
      "cell_type": "code",
      "execution_count": 12,
      "metadata": {
        "id": "glicW8_5vTqd",
        "colab": {
          "base_uri": "https://localhost:8080/"
        },
        "outputId": "b0c8310d-92d0-467a-bcfd-807c2baaf8a5"
      },
      "outputs": [
        {
          "output_type": "stream",
          "name": "stdout",
          "text": [
            "8/8 [==============================] - 31s 4s/step\n",
            "[[1.0000000e+00]\n",
            " [1.0000000e+00]\n",
            " [1.0000000e+00]\n",
            " [1.3982850e-16]\n",
            " [9.9740410e-01]\n",
            " [3.0068692e-10]\n",
            " [1.0000000e+00]\n",
            " [5.9374880e-19]\n",
            " [1.0000000e+00]\n",
            " [1.9404092e-06]\n",
            " [3.7292749e-02]\n",
            " [1.0000000e+00]\n",
            " [9.9990159e-01]\n",
            " [1.0000000e+00]\n",
            " [9.5596921e-04]\n",
            " [1.0000000e+00]\n",
            " [1.0000000e+00]\n",
            " [1.0000000e+00]\n",
            " [2.4259356e-26]\n",
            " [1.0000000e+00]\n",
            " [1.0000000e+00]\n",
            " [1.4069391e-09]\n",
            " [1.0000000e+00]\n",
            " [4.8045994e-09]\n",
            " [2.1845135e-26]\n",
            " [1.0000000e+00]\n",
            " [7.9158509e-14]\n",
            " [1.0000000e+00]\n",
            " [1.0000000e+00]\n",
            " [7.2351086e-10]\n",
            " [1.0000000e+00]\n",
            " [1.7121101e-09]\n",
            " [7.0635363e-02]\n",
            " [1.0000000e+00]\n",
            " [1.0000000e+00]\n",
            " [1.0000000e+00]\n",
            " [8.9927084e-13]\n",
            " [1.0000000e+00]\n",
            " [3.9443052e-03]\n",
            " [1.0000000e+00]\n",
            " [1.1393500e-03]\n",
            " [2.4355375e-22]\n",
            " [1.0000000e+00]\n",
            " [1.0000000e+00]\n",
            " [1.0000000e+00]\n",
            " [2.6605543e-23]\n",
            " [1.0000000e+00]\n",
            " [1.0000000e+00]\n",
            " [1.0000000e+00]\n",
            " [1.0000000e+00]\n",
            " [1.0000000e+00]\n",
            " [5.5290691e-20]\n",
            " [1.0163471e-25]\n",
            " [7.4501631e-06]\n",
            " [1.0000000e+00]\n",
            " [1.0000000e+00]\n",
            " [6.2230360e-02]\n",
            " [1.0000000e+00]\n",
            " [1.0000000e+00]\n",
            " [2.1844267e-05]\n",
            " [1.0000000e+00]\n",
            " [1.0000000e+00]\n",
            " [1.0000000e+00]\n",
            " [1.0000000e+00]\n",
            " [1.0000000e+00]\n",
            " [2.1166878e-20]\n",
            " [1.0000000e+00]\n",
            " [1.0000000e+00]\n",
            " [1.0000000e+00]\n",
            " [1.0000000e+00]\n",
            " [1.6548711e-30]\n",
            " [1.0000000e+00]\n",
            " [1.0000000e+00]\n",
            " [1.0000000e+00]\n",
            " [1.0000000e+00]\n",
            " [1.0000000e+00]\n",
            " [1.2509430e-04]\n",
            " [1.0000000e+00]\n",
            " [1.9203213e-15]\n",
            " [1.0000000e+00]\n",
            " [1.0000000e+00]\n",
            " [1.0000000e+00]\n",
            " [1.0000000e+00]\n",
            " [1.0141251e-06]\n",
            " [1.0000000e+00]\n",
            " [1.0975132e-06]\n",
            " [1.0000000e+00]\n",
            " [1.0000000e+00]\n",
            " [1.0000000e+00]\n",
            " [1.0000000e+00]\n",
            " [1.0000000e+00]\n",
            " [1.9012992e-20]\n",
            " [1.0000000e+00]\n",
            " [1.0000000e+00]\n",
            " [1.5773344e-06]\n",
            " [1.0000000e+00]\n",
            " [1.0000000e+00]\n",
            " [1.0000000e+00]\n",
            " [3.1541840e-14]\n",
            " [1.0230534e-01]\n",
            " [1.0000000e+00]\n",
            " [1.0000000e+00]\n",
            " [1.0000000e+00]\n",
            " [2.6058001e-17]\n",
            " [1.0000000e+00]\n",
            " [1.0000000e+00]\n",
            " [1.0000000e+00]\n",
            " [4.3122572e-01]\n",
            " [1.0000000e+00]\n",
            " [1.0000000e+00]\n",
            " [3.2461368e-02]\n",
            " [1.0000000e+00]\n",
            " [1.0000000e+00]\n",
            " [7.5595222e-02]\n",
            " [1.0000000e+00]\n",
            " [9.9926144e-01]\n",
            " [1.0000000e+00]\n",
            " [1.0000000e+00]\n",
            " [1.0000000e+00]\n",
            " [3.4732297e-11]\n",
            " [6.8333924e-12]\n",
            " [3.8793365e-07]\n",
            " [1.0000000e+00]\n",
            " [1.0000000e+00]\n",
            " [1.0000000e+00]\n",
            " [1.0000000e+00]\n",
            " [1.0000000e+00]\n",
            " [1.0000000e+00]\n",
            " [2.0937289e-03]\n",
            " [1.0000000e+00]\n",
            " [3.6661120e-18]\n",
            " [1.0000000e+00]\n",
            " [1.0000000e+00]\n",
            " [2.8786258e-07]\n",
            " [9.9999982e-01]\n",
            " [5.7897598e-01]\n",
            " [4.1676745e-12]\n",
            " [1.0000000e+00]\n",
            " [1.0000000e+00]\n",
            " [1.0000000e+00]\n",
            " [1.0000000e+00]\n",
            " [1.0000000e+00]\n",
            " [1.0000000e+00]\n",
            " [8.3858040e-06]\n",
            " [1.0000000e+00]\n",
            " [4.9076879e-01]\n",
            " [1.0000000e+00]\n",
            " [1.0000000e+00]\n",
            " [1.0000000e+00]\n",
            " [3.3925661e-18]\n",
            " [5.1619592e-10]\n",
            " [1.0000000e+00]\n",
            " [1.0000000e+00]\n",
            " [2.0737533e-12]\n",
            " [1.0552899e-02]\n",
            " [1.0000000e+00]\n",
            " [1.0000000e+00]\n",
            " [1.8598855e-28]\n",
            " [7.2092153e-02]\n",
            " [1.0000000e+00]\n",
            " [1.0000000e+00]\n",
            " [5.9113495e-12]\n",
            " [1.0000000e+00]\n",
            " [1.0000000e+00]\n",
            " [2.8926226e-09]\n",
            " [3.3535948e-16]\n",
            " [1.0000000e+00]\n",
            " [1.0000000e+00]\n",
            " [9.9999231e-01]\n",
            " [2.9455162e-15]\n",
            " [8.0341856e-08]\n",
            " [9.9281579e-01]\n",
            " [1.0000000e+00]\n",
            " [1.8006486e-21]\n",
            " [3.2447488e-08]\n",
            " [1.0000000e+00]\n",
            " [1.0000000e+00]\n",
            " [1.0000000e+00]\n",
            " [3.5120875e-22]\n",
            " [1.0000000e+00]\n",
            " [8.1257735e-27]\n",
            " [1.0000000e+00]\n",
            " [1.0000000e+00]\n",
            " [9.9999988e-01]\n",
            " [1.9701626e-11]\n",
            " [1.0902525e-06]\n",
            " [1.0000000e+00]\n",
            " [2.6755941e-03]\n",
            " [1.0000000e+00]\n",
            " [1.0000000e+00]\n",
            " [1.0000000e+00]\n",
            " [1.1024065e-16]\n",
            " [1.0000000e+00]\n",
            " [7.3748039e-12]\n",
            " [1.0000000e+00]\n",
            " [1.0000000e+00]\n",
            " [1.0000000e+00]\n",
            " [7.5430594e-06]\n",
            " [1.0000000e+00]\n",
            " [1.0000000e+00]\n",
            " [1.0000000e+00]\n",
            " [1.0000000e+00]\n",
            " [1.0000000e+00]\n",
            " [1.0000000e+00]\n",
            " [4.3342028e-22]\n",
            " [9.7087927e-10]\n",
            " [1.0000000e+00]\n",
            " [1.0000000e+00]\n",
            " [1.0000000e+00]\n",
            " [1.0000000e+00]\n",
            " [1.7597515e-18]\n",
            " [1.0000000e+00]\n",
            " [8.9176225e-13]\n",
            " [9.9539244e-01]\n",
            " [1.0000000e+00]\n",
            " [1.0000000e+00]\n",
            " [1.5007773e-06]\n",
            " [1.0000000e+00]\n",
            " [3.8359255e-07]\n",
            " [1.0000000e+00]\n",
            " [1.0000000e+00]\n",
            " [1.0000000e+00]\n",
            " [1.0000000e+00]\n",
            " [9.9230659e-01]\n",
            " [1.0000000e+00]\n",
            " [1.0000000e+00]\n",
            " [1.0000000e+00]\n",
            " [1.0000000e+00]\n",
            " [9.9438667e-01]\n",
            " [5.0049969e-20]\n",
            " [1.0000000e+00]\n",
            " [1.8495701e-09]\n",
            " [1.0000000e+00]\n",
            " [2.4496405e-14]\n",
            " [4.1983682e-07]\n",
            " [3.1510632e-14]\n",
            " [2.0030823e-22]\n",
            " [1.0868563e-24]\n",
            " [1.0000000e+00]\n",
            " [9.9999982e-01]\n",
            " [1.0000000e+00]\n",
            " [8.3870739e-03]\n",
            " [1.0000000e+00]\n",
            " [1.0000000e+00]\n",
            " [1.0000000e+00]\n",
            " [1.0000000e+00]\n",
            " [1.0000000e+00]\n",
            " [1.3106741e-01]\n",
            " [2.0527662e-12]\n",
            " [1.0000000e+00]\n",
            " [1.7685944e-04]\n",
            " [1.3505583e-01]\n",
            " [9.1413909e-01]\n",
            " [1.0000000e+00]\n",
            " [9.8141831e-01]\n",
            " [2.3998681e-19]]\n"
          ]
        }
      ],
      "source": [
        "#predict the test data\n",
        "predictions = model.predict(test_data)\n",
        "print(predictions)"
      ]
    },
    {
      "cell_type": "code",
      "execution_count": 13,
      "metadata": {
        "id": "r7XjnjcNyMbv",
        "colab": {
          "base_uri": "https://localhost:8080/"
        },
        "outputId": "576a60e1-cc4d-4207-d125-ad7abe916a7d"
      },
      "outputs": [
        {
          "output_type": "execute_result",
          "data": {
            "text/plain": [
              "256"
            ]
          },
          "metadata": {},
          "execution_count": 13
        }
      ],
      "source": [
        "len(predictions)"
      ]
    },
    {
      "cell_type": "code",
      "execution_count": 14,
      "metadata": {
        "id": "oqqBXpuhyd6x",
        "colab": {
          "base_uri": "https://localhost:8080/"
        },
        "outputId": "9ceac552-5584-44fa-9181-ec93e68d7eaa"
      },
      "outputs": [
        {
          "output_type": "stream",
          "name": "stdout",
          "text": [
            "Confusion Matrix:\n",
            "[[41 87]\n",
            " [46 82]]\n",
            "Classification Report:\n",
            "              precision    recall  f1-score   support\n",
            "\n",
            "           0       0.47      0.32      0.38       128\n",
            "           1       0.49      0.64      0.55       128\n",
            "\n",
            "    accuracy                           0.48       256\n",
            "   macro avg       0.48      0.48      0.47       256\n",
            "weighted avg       0.48      0.48      0.47       256\n",
            "\n"
          ]
        }
      ],
      "source": [
        "from sklearn.metrics import confusion_matrix, classification_report\n",
        "\n",
        "# Assuming you have ground truth labels (true_labels) and predicted labels (predictions)\n",
        "true_labels = test_data.classes\n",
        "predicted_labels = (predictions > 0.5).astype(int)  # Adjust the threshold as needed\n",
        "\n",
        "# Calculate confusion matrix\n",
        "cm = confusion_matrix(true_labels, predicted_labels)\n",
        "\n",
        "# Print confusion matrix\n",
        "print(\"Confusion Matrix:\")\n",
        "print(cm)\n",
        "\n",
        "# Print classification report\n",
        "print(\"Classification Report:\")\n",
        "print(classification_report(true_labels, predicted_labels))"
      ]
    }
  ],
  "metadata": {
    "accelerator": "TPU",
    "colab": {
      "provenance": []
    },
    "kernelspec": {
      "display_name": "Python 3",
      "name": "python3"
    },
    "language_info": {
      "name": "python"
    }
  },
  "nbformat": 4,
  "nbformat_minor": 0
}