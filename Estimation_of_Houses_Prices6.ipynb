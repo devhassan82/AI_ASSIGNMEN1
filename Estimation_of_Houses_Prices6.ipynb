{
  "cells": [
    {
      "cell_type": "markdown",
      "metadata": {
        "id": "view-in-github",
        "colab_type": "text"
      },
      "source": [
        "<a href=\"https://colab.research.google.com/github/devhassan82/AI_ASSIGNMEN1/blob/main/Estimation_of_Houses_Prices6.ipynb\" target=\"_parent\"><img src=\"https://colab.research.google.com/assets/colab-badge.svg\" alt=\"Open In Colab\"/></a>"
      ]
    },
    {
      "cell_type": "markdown",
      "id": "2a7961e5-f83d-4a55-956d-794f6cdb4393",
      "metadata": {
        "id": "2a7961e5-f83d-4a55-956d-794f6cdb4393"
      },
      "source": [
        "\n",
        "# Estimation of Houses Prices - Data Science project\n"
      ]
    },
    {
      "cell_type": "markdown",
      "id": "dea99887",
      "metadata": {
        "id": "dea99887"
      },
      "source": [
        "## Import Libraries\n",
        "All libraries are used for specific tasks including data preprocessing, visualization, transformation and evaluation"
      ]
    },
    {
      "cell_type": "code",
      "execution_count": null,
      "id": "377ef3dc",
      "metadata": {
        "id": "377ef3dc"
      },
      "outputs": [],
      "source": [
        "import numpy as np\n",
        "import pandas as pd\n",
        "import seaborn as sns\n",
        "import matplotlib.pyplot as plt\n",
        "from sklearn.preprocessing import LabelEncoder,StandardScaler\n",
        "from sklearn.linear_model import LinearRegression,Lasso\n",
        "from sklearn.metrics import mean_squared_error,mean_absolute_error\n",
        "from sklearn.ensemble import RandomForestRegressor\n",
        "import warnings\n",
        "warnings.filterwarnings(\"ignore\")"
      ]
    },
    {
      "cell_type": "markdown",
      "id": "b6af7a8c-dc0c-44d8-ac90-a02fa392b126",
      "metadata": {
        "id": "b6af7a8c-dc0c-44d8-ac90-a02fa392b126"
      },
      "source": [
        "\n",
        "---------------------------------------------------------\n",
        "\n",
        "\"--------------Business Problem: Estimate the price of a used car based on chara/features such as manufacturer name, transmission, color...-----------\""
      ]
    },
    {
      "cell_type": "markdown",
      "id": "ec4d26d5",
      "metadata": {
        "id": "ec4d26d5"
      },
      "source": [
        "## Import Data\n",
        "### Read Training Data\n",
        "The training set is read locally and the **head** function is used to display the data for intial understanding"
      ]
    },
    {
      "cell_type": "markdown",
      "id": "85eb6fb1-26db-4f7b-a2de-006130c8e35b",
      "metadata": {
        "id": "85eb6fb1-26db-4f7b-a2de-006130c8e35b"
      },
      "source": [
        "\"======Data understanding======\""
      ]
    },
    {
      "cell_type": "code",
      "execution_count": null,
      "id": "cb369321-e43b-4d2c-b684-42b2b51e8165",
      "metadata": {
        "id": "cb369321-e43b-4d2c-b684-42b2b51e8165"
      },
      "outputs": [],
      "source": [
        "import pandas as pd\n",
        "\n",
        "dataTrain = pd.read_csv('//content/House_Price_Prediction.csv')\n",
        "\n",
        "dataTrain.head()"
      ]
    },
    {
      "cell_type": "code",
      "source": [
        "from google.colab import drive\n",
        "drive.mount('/content/drive')"
      ],
      "metadata": {
        "id": "rm-GxankZYWc"
      },
      "id": "rm-GxankZYWc",
      "execution_count": null,
      "outputs": []
    },
    {
      "cell_type": "code",
      "execution_count": null,
      "id": "bb6f24b4-3a8b-4baa-a62a-f6047a5e5b06",
      "metadata": {
        "id": "bb6f24b4-3a8b-4baa-a62a-f6047a5e5b06"
      },
      "outputs": [],
      "source": [
        "type(dataTrain)  #data type"
      ]
    },
    {
      "cell_type": "markdown",
      "id": "2db3d8e5",
      "metadata": {
        "id": "2db3d8e5"
      },
      "source": [
        "The **shape** function displays the number of rows and columns in the training set"
      ]
    },
    {
      "cell_type": "code",
      "execution_count": null,
      "id": "6a13a8de",
      "metadata": {
        "id": "6a13a8de"
      },
      "outputs": [],
      "source": [
        "dataTrain.shape # check dimension"
      ]
    },
    {
      "cell_type": "markdown",
      "id": "d0023e64",
      "metadata": {
        "id": "d0023e64"
      },
      "source": [
        "Checking for null values in each column and displaying the sum of all null values in each column (Training Set)"
      ]
    },
    {
      "cell_type": "code",
      "execution_count": null,
      "id": "54d24c7a",
      "metadata": {
        "id": "54d24c7a"
      },
      "outputs": [],
      "source": [
        "dataTrain.isnull().sum()"
      ]
    },
    {
      "cell_type": "code",
      "source": [
        "#Show me the locations where the null values are\n",
        "dataTrain[dataTrain.isnull().any(axis=1)]"
      ],
      "metadata": {
        "id": "DurEjrJ1_jHa"
      },
      "id": "DurEjrJ1_jHa",
      "execution_count": null,
      "outputs": []
    },
    {
      "cell_type": "code",
      "execution_count": null,
      "id": "5c8b640c",
      "metadata": {
        "id": "5c8b640c"
      },
      "outputs": [],
      "source": [
        "dataTrain = dataTrain.dropna() # Dropping those records having null values"
      ]
    },
    {
      "cell_type": "markdown",
      "id": "8507f3fd",
      "metadata": {
        "id": "8507f3fd"
      },
      "source": [
        "Checking if null values are eliminated (Training set)"
      ]
    },
    {
      "cell_type": "code",
      "execution_count": null,
      "id": "e8545910",
      "metadata": {
        "id": "e8545910"
      },
      "outputs": [],
      "source": [
        "dataTrain.isnull().sum()"
      ]
    },
    {
      "cell_type": "code",
      "execution_count": null,
      "id": "b8f9e257",
      "metadata": {
        "id": "b8f9e257"
      },
      "outputs": [],
      "source": [
        "dataTrain.shape # printing the shape -- Yes, 15 rows containing null values are removed"
      ]
    },
    {
      "cell_type": "markdown",
      "id": "1452ef43",
      "metadata": {
        "id": "1452ef43"
      },
      "source": [
        "Checking the data types"
      ]
    },
    {
      "cell_type": "code",
      "execution_count": null,
      "id": "b86cefbd",
      "metadata": {
        "id": "b86cefbd"
      },
      "outputs": [],
      "source": [
        "dataTrain.dtypes  # checking the data type of every column"
      ]
    },
    {
      "cell_type": "markdown",
      "id": "dd8f36a8",
      "metadata": {
        "id": "dd8f36a8"
      },
      "source": [
        "Checking the correlation between the numerical features and with the target"
      ]
    },
    {
      "cell_type": "markdown",
      "id": "6430d74e",
      "metadata": {
        "id": "6430d74e"
      },
      "source": [
        "## EDA (Exploratory Data Analysis)\n",
        "Visualizations are used to understand the relationship between the target variable and the features, in addition to correlation coefficient.\n",
        "The visuals include heatmap,boxplot etc.\n"
      ]
    },
    {
      "cell_type": "markdown",
      "id": "67e1363f-7a50-43ed-8ddb-f233cea94e0c",
      "metadata": {
        "id": "67e1363f-7a50-43ed-8ddb-f233cea94e0c"
      },
      "source": [
        "# Heat map"
      ]
    },
    {
      "cell_type": "code",
      "execution_count": null,
      "id": "f98345e8-8bbb-4fd7-8148-0a91915d5217",
      "metadata": {
        "id": "f98345e8-8bbb-4fd7-8148-0a91915d5217"
      },
      "outputs": [],
      "source": [
        "import matplotlib.pyplot as plt\n",
        "import seaborn as sns\n",
        "\n",
        "\n",
        "# Compute correlation matrix for numerical columns\n",
        "%time\n",
        "corr = dataTrain.select_dtypes(include=['number']).corr()\n",
        "\n",
        "# Plot heatmap\n",
        "sns.heatmap(corr, annot=True, xticklabels=corr.columns, yticklabels=corr.columns)\n",
        "plt.show()\n",
        "\n"
      ]
    },
    {
      "cell_type": "markdown",
      "source": [
        "Descriptive statistics"
      ],
      "metadata": {
        "id": "TCqOVMPq6oL4"
      },
      "id": "TCqOVMPq6oL4"
    },
    {
      "cell_type": "code",
      "execution_count": null,
      "id": "922b8d15-6f70-44ff-b296-8a4431e8ab67",
      "metadata": {
        "id": "922b8d15-6f70-44ff-b296-8a4431e8ab67"
      },
      "outputs": [],
      "source": [
        "dataTrain.describe() #generate various summary statistics of a DataFrame\n",
        "#Note: Only features with numeric data are considered"
      ]
    },
    {
      "cell_type": "markdown",
      "id": "6e1f3eb1-0f55-4b54-a133-8c5ab8b24ffb",
      "metadata": {
        "id": "6e1f3eb1-0f55-4b54-a133-8c5ab8b24ffb"
      },
      "source": [
        "A descriptive analysis to check incorrect entries and anormalies."
      ]
    },
    {
      "cell_type": "markdown",
      "id": "5fb693a3-57bb-47cd-a542-d4574d287afc",
      "metadata": {
        "id": "5fb693a3-57bb-47cd-a542-d4574d287afc"
      },
      "source": [
        "1. Count: The number of values in the dataframe.\n",
        "2. Mean: The arithmetic mean or average of the values.\n",
        "3. Standard Deviation (std): A measure of the dispersion or spread of the values.\n",
        "4. Minimum: The minimum (smallest) value in each column.\n",
        "5. 25th Percentile (25%): The value below which 25% of the data falls (1st quartile). Means 25% of the entire data falls under the value 500.750000 for odometer_value\n",
        "6. 50th Percentile (50%): The median or value below which 50% of the data falls (2nd quartile).\n",
        "7. 75th Percentile (75%): The value below which 75% of the data falls (3rd quartile).\n",
        "8. Maximum: The maximum (largest) value in the Series."
      ]
    },
    {
      "cell_type": "markdown",
      "id": "da2bc36f-9e9c-40bf-ab61-acef72d0e9e6",
      "metadata": {
        "id": "da2bc36f-9e9c-40bf-ab61-acef72d0e9e6"
      },
      "source": [
        "**************************************************************"
      ]
    },
    {
      "cell_type": "markdown",
      "id": "5f61f8f1-101b-4169-bee8-7f7f10b2d20a",
      "metadata": {
        "id": "5f61f8f1-101b-4169-bee8-7f7f10b2d20a"
      },
      "source": [
        "#Looking at the \"minimum price\", 50005.000000 USD is found.\n",
        "#This could be a wrong entry (or an outlier)\n",
        "\n",
        "\n"
      ]
    },
    {
      "cell_type": "code",
      "execution_count": null,
      "id": "528a21da-2d8c-4ab3-9a29-b7b3a2e09028",
      "metadata": {
        "id": "528a21da-2d8c-4ab3-9a29-b7b3a2e09028"
      },
      "outputs": [],
      "source": [
        "#Search for price = 50005 , if so, change the price to 100000\n",
        "dataTrain.loc[dataTrain['Price'] == 50005, 'Price'] = 100000"
      ]
    },
    {
      "cell_type": "code",
      "execution_count": null,
      "id": "7b5dba68-f475-4253-ade0-d03cfaa9811a",
      "metadata": {
        "id": "7b5dba68-f475-4253-ade0-d03cfaa9811a"
      },
      "outputs": [],
      "source": [
        "dataTrain.describe()  # now still the minimum price is 50064 USD"
      ]
    },
    {
      "cell_type": "code",
      "execution_count": null,
      "id": "5bc78db7-d62f-4f76-8fe7-6385ac3a385f",
      "metadata": {
        "id": "5bc78db7-d62f-4f76-8fe7-6385ac3a385f"
      },
      "outputs": [],
      "source": [
        "#Search for price < 100000 , if so, change the price to 100000\n",
        "dataTrain.loc[dataTrain['Price'] < 100000, 'Price'] = 100000"
      ]
    },
    {
      "cell_type": "code",
      "execution_count": null,
      "id": "d81211c7-4581-42db-85d8-2e74d64244a9",
      "metadata": {
        "id": "d81211c7-4581-42db-85d8-2e74d64244a9"
      },
      "outputs": [],
      "source": [
        "dataTrain.describe()  # now the minimum price is 100000 USD"
      ]
    },
    {
      "cell_type": "markdown",
      "id": "9a1b9e0e",
      "metadata": {
        "id": "9a1b9e0e"
      },
      "source": [
        "### Regression/scatter Plot\n",
        "This regression plot shows the relation between Floors and price.A slight positive correlation is observed which shows that price is being affected by the number of the floors."
      ]
    },
    {
      "cell_type": "code",
      "execution_count": null,
      "id": "552ad7c9",
      "metadata": {
        "id": "552ad7c9"
      },
      "outputs": [],
      "source": [
        "import seaborn as sns\n",
        "plt.figure(figsize=(10,6))\n",
        "sns.regplot(x=\"Floors\", y=\"Price\", data=dataTrain)"
      ]
    },
    {
      "cell_type": "markdown",
      "id": "2827653e",
      "metadata": {
        "id": "2827653e"
      },
      "source": [
        "As observed in the plot, a **negative correlation** is observed"
      ]
    },
    {
      "cell_type": "code",
      "execution_count": null,
      "id": "e6e357db",
      "metadata": {
        "id": "e6e357db"
      },
      "outputs": [],
      "source": [
        "from scipy import stats\n",
        "pearson_coef, p_value = stats.pearsonr(dataTrain['Floors'], dataTrain['Price'])\n",
        "print(\"The Pearson Correlation Coefficient is\", pearson_coef, \" with a P-value of P =\", p_value)"
      ]
    },
    {
      "cell_type": "markdown",
      "id": "1192617c-9a57-48d2-8568-ca6936e71057",
      "metadata": {
        "id": "1192617c-9a57-48d2-8568-ca6936e71057"
      },
      "source": [
        "The Pearson correlation coefficient (r) was obtained at 0.0566 with a probability (p) value of 0.011294.\n",
        "\n",
        "The Pearson correlation coefficient (r) is a measure of the linear relationship between two variables. Its values ​​can range from -1 to 1.\n",
        "\n",
        "If the r value is close to 1, this indicates a strong positive linear relationship. This means that as one variable increases, the other variable tends to increase as well.\n",
        "\n",
        "If the r value is close to -1, this indicates a strong negative linear relationship. This means that as one variable increases, the other variable tends to decrease.\n",
        "\n",
        "If the r value is close to 0, this indicates a weak or nonexistent linear relationship. In other words, the two variables are not strongly related.\n",
        "\n",
        "In our case, the Pearson correlation coefficient is approximately 0.0566, which is closer to 1 than to 0. This indicates a moderate positive linear relationship between the two correlated variables.\n",
        "\n",
        "The probability value here (which corresponds to the odometer values) confirms a strong correlation, and therefore this feature is an essential feature for predicting house prices."
      ]
    },
    {
      "cell_type": "markdown",
      "id": "4e5237d2",
      "metadata": {
        "id": "4e5237d2"
      },
      "source": [
        "The regression chart below illustrates the relationship between house ِArea and price. There is no correlation between the two variables, indicating that price is not affected by house Area."
      ]
    },
    {
      "cell_type": "code",
      "execution_count": null,
      "id": "9ea08467",
      "metadata": {
        "id": "9ea08467"
      },
      "outputs": [],
      "source": [
        "plt.figure(figsize=(10,6))\n",
        "sns.regplot(x=\"Area\", y=\"Price\", data=dataTrain)"
      ]
    },
    {
      "cell_type": "markdown",
      "id": "4d039f1a",
      "metadata": {
        "id": "4d039f1a"
      },
      "source": [
        "Here a low positive correlation of 0.0017832 with a p-value of 0.93647 is calculated which indicates that the correlation between the variables is weak and hence the use of the feature produced in the year for prediction is weak."
      ]
    },
    {
      "cell_type": "code",
      "execution_count": null,
      "id": "9169b35e",
      "metadata": {
        "id": "9169b35e"
      },
      "outputs": [],
      "source": [
        "pearson_coef, p_value = stats.pearsonr(dataTrain['Area'], dataTrain['Price'])\n",
        "print(\"The Pearson Correlation Coefficient is\", pearson_coef, \" with a P-value of P =\", p_value)"
      ]
    },
    {
      "cell_type": "markdown",
      "id": "9604ae26",
      "metadata": {
        "id": "9604ae26"
      },
      "source": [
        "The regression chart below illustrates the relationship between YearBuilt and price. There is no correlation between the two variables, indicating that price is not affected by YearBuilt."
      ]
    },
    {
      "cell_type": "code",
      "execution_count": null,
      "id": "f9ba85cc",
      "metadata": {
        "id": "f9ba85cc"
      },
      "outputs": [],
      "source": [
        "plt.figure(figsize=(10,6))\n",
        "sns.regplot(x=\"YearBuilt\", y=\"Price\", data=dataTrain)"
      ]
    },
    {
      "cell_type": "markdown",
      "id": "56e7c19c",
      "metadata": {
        "id": "56e7c19c"
      },
      "source": [
        "Here a low positive correlation of 0.004890 with a p-value of 0.82698 is calculated which indicates that the correlation between\n",
        "\n",
        "the variables is weak and hence the use of the feature produced in the year for prediction is weak."
      ]
    },
    {
      "cell_type": "code",
      "execution_count": null,
      "id": "e46302cb",
      "metadata": {
        "id": "e46302cb"
      },
      "outputs": [],
      "source": [
        "pearson_coef, p_value = stats.pearsonr(dataTrain['YearBuilt'], dataTrain['Price'])\n",
        "print(\"The Pearson Correlation Coefficient is\", pearson_coef, \" with a P-value of P =\", p_value)"
      ]
    },
    {
      "cell_type": "markdown",
      "id": "f41facbf-62c6-4185-9d5d-ecfa594b9af2",
      "metadata": {
        "id": "f41facbf-62c6-4185-9d5d-ecfa594b9af2"
      },
      "source": [
        "The regression chart below illustrates the relationship between Bedrooms and price. There is no correlation between the two variables, indicating that price is not affected by Bedrooms."
      ]
    },
    {
      "cell_type": "code",
      "execution_count": null,
      "id": "ff946600",
      "metadata": {
        "id": "ff946600"
      },
      "outputs": [],
      "source": [
        "plt.figure(figsize=(10,6))\n",
        "sns.regplot(x=\"Bedrooms\", y=\"Price\", data=dataTrain)"
      ]
    },
    {
      "cell_type": "markdown",
      "id": "544cce91",
      "metadata": {
        "id": "544cce91"
      },
      "source": [
        "Here, a low positive correlation of 0.003706 with a p-value of 0.86843 was calculated, indicating a weak correlation between the variables and, therefore, a weak use of the feature produced during the year for prediction."
      ]
    },
    {
      "cell_type": "code",
      "execution_count": null,
      "id": "19bbeaf9",
      "metadata": {
        "id": "19bbeaf9"
      },
      "outputs": [],
      "source": [
        "pearson_coef, p_value = stats.pearsonr(dataTrain['Bedrooms'], dataTrain['Price'])\n",
        "print(\"The Pearson Correlation Coefficient is\", pearson_coef, \" with a P-value of P =\", p_value)"
      ]
    },
    {
      "cell_type": "markdown",
      "id": "74edac4f",
      "metadata": {
        "id": "74edac4f"
      },
      "source": [
        "The regression chart below illustrates the relationship between Bathrooms and price. There is no correlation between the two variables, indicating that price is not affected by Bathrooms."
      ]
    },
    {
      "cell_type": "code",
      "execution_count": null,
      "id": "143dda8c",
      "metadata": {
        "id": "143dda8c"
      },
      "outputs": [],
      "source": [
        "plt.figure(figsize=(10,6))\n",
        "sns.regplot(x=\"Bathrooms\", y=\"Price\", data=dataTrain)"
      ]
    },
    {
      "cell_type": "markdown",
      "id": "d914d870",
      "metadata": {
        "id": "d914d870"
      },
      "source": [
        "Here, a low positive correlation of 0.015573 with a p-value of 0.48637 was calculated, indicating a weak correlation between the variables and, therefore, a weak use of the feature produced during the year for prediction."
      ]
    },
    {
      "cell_type": "code",
      "execution_count": null,
      "id": "4ae5cbaf",
      "metadata": {
        "id": "4ae5cbaf"
      },
      "outputs": [],
      "source": [
        "pearson_coef, p_value = stats.pearsonr(dataTrain['Bathrooms'], dataTrain['Price'])\n",
        "print(\"The Pearson Correlation Coefficient is\", pearson_coef, \" with a P-value of P =\", p_value)"
      ]
    },
    {
      "cell_type": "markdown",
      "id": "c7cd4449",
      "metadata": {
        "id": "c7cd4449"
      },
      "source": [
        "---- this plot shows no correlation with points all over the graph ----"
      ]
    },
    {
      "cell_type": "markdown",
      "id": "89a223e3",
      "metadata": {
        "id": "89a223e3"
      },
      "source": [
        "### Box Plot\n",
        "These plots are used for categorical data to determine the importance of features for prediction."
      ]
    },
    {
      "cell_type": "markdown",
      "id": "0d715fff",
      "metadata": {
        "id": "0d715fff"
      },
      "source": [
        "The box plot shows how price vary based on different location. This shows that Location can be used as a feature for price prediction.\n"
      ]
    },
    {
      "cell_type": "code",
      "execution_count": null,
      "id": "5bf1471f",
      "metadata": {
        "id": "5bf1471f"
      },
      "outputs": [],
      "source": [
        "sns.boxplot(x=\"Location\", y=\"Price\", data=dataTrain)"
      ]
    },
    {
      "cell_type": "markdown",
      "id": "1149d8d3",
      "metadata": {
        "id": "1149d8d3"
      },
      "source": [
        "The box plot shows how price vary based on different location. This shows that Location can be used as a feature for price prediction.\n",
        "\n",
        "\n",
        "\n"
      ]
    },
    {
      "cell_type": "code",
      "execution_count": null,
      "id": "7b4e8133",
      "metadata": {
        "id": "7b4e8133"
      },
      "outputs": [],
      "source": [
        "plt.figure(figsize=(10,6))\n",
        "sns.boxplot(x=\"Condition\", y=\"Price\", data=dataTrain)"
      ]
    },
    {
      "cell_type": "markdown",
      "id": "b7bb904d",
      "metadata": {
        "id": "b7bb904d"
      },
      "source": [
        "This chart illustrates condition and its impact on price. A home in better condition has a slightly higher price range, while a home in poorer condition has a lower price. This feature can be used for predicting."
      ]
    },
    {
      "cell_type": "code",
      "execution_count": null,
      "id": "f4444437",
      "metadata": {
        "id": "f4444437"
      },
      "outputs": [],
      "source": [
        "sns.boxplot(x=\"Garage\", y=\"Price\", data=dataTrain)"
      ]
    },
    {
      "cell_type": "markdown",
      "id": "4f50f959",
      "metadata": {
        "id": "4f50f959"
      },
      "source": [
        "The Garage (based on Garage column) shows that the house with garage or witout garage have almost the same price range which will not bring differences in price when prediction is made. Hence this feature is not suitable for price prediction"
      ]
    },
    {
      "cell_type": "code",
      "execution_count": null,
      "id": "28f7b530-fb36-40ec-afcf-36faffd4e763",
      "metadata": {
        "id": "28f7b530-fb36-40ec-afcf-36faffd4e763"
      },
      "outputs": [],
      "source": [
        "dataTrain.drop(['Garage'], axis = 1, inplace = True)"
      ]
    },
    {
      "cell_type": "markdown",
      "id": "645dcdf1-a303-48aa-9bce-982bcf1e939f",
      "metadata": {
        "id": "645dcdf1-a303-48aa-9bce-982bcf1e939f"
      },
      "source": [
        "Same features are removed for testing set since the data will be used to train the model"
      ]
    },
    {
      "cell_type": "code",
      "execution_count": null,
      "id": "8f716b36-7161-476a-b271-6376f4d75607",
      "metadata": {
        "id": "8f716b36-7161-476a-b271-6376f4d75607"
      },
      "outputs": [],
      "source": [
        "dataTrain.shape\n"
      ]
    },
    {
      "cell_type": "markdown",
      "id": "b3a634b9",
      "metadata": {
        "id": "b3a634b9"
      },
      "source": [
        "### Data Transformation\n",
        "Label encoding of categorical features in the training set. Label encoding is converting categorical data into numerical data since the model cant understand textual data."
      ]
    },
    {
      "cell_type": "markdown",
      "id": "5e422f91-b378-40d7-8016-de92ec2203c6",
      "metadata": {
        "id": "5e422f91-b378-40d7-8016-de92ec2203c6"
      },
      "source": [
        "----Data Preparation--------"
      ]
    },
    {
      "cell_type": "code",
      "execution_count": null,
      "id": "12f3abc7",
      "metadata": {
        "id": "12f3abc7"
      },
      "outputs": [],
      "source": [
        "from sklearn.preprocessing import LabelEncoder\n",
        "\n",
        "labelencoder = LabelEncoder()\n",
        "dataTrain.Location = labelencoder.fit_transform(dataTrain.Location)\n",
        "dataTrain.Condition = labelencoder.fit_transform(dataTrain.Condition)\n",
        "\n",
        "\n"
      ]
    },
    {
      "cell_type": "markdown",
      "id": "df7adffb",
      "metadata": {
        "id": "df7adffb"
      },
      "source": [
        "Label encoding of all categorical data in the testing set."
      ]
    },
    {
      "cell_type": "markdown",
      "id": "8b037815",
      "metadata": {
        "id": "8b037815"
      },
      "source": [
        "Checking on the remaining features and if label encoding is applied to all categorical features (Training set)."
      ]
    },
    {
      "cell_type": "code",
      "execution_count": null,
      "id": "576813a7",
      "metadata": {
        "id": "576813a7"
      },
      "outputs": [],
      "source": [
        "dataTrain.head(10)"
      ]
    },
    {
      "cell_type": "markdown",
      "id": "2c90faa6",
      "metadata": {
        "id": "2c90faa6"
      },
      "source": [
        "Check on the remaining features and application of label encoding to all categorical features (Testing set)."
      ]
    },
    {
      "cell_type": "markdown",
      "id": "a089e79c",
      "metadata": {
        "id": "a089e79c"
      },
      "source": [
        "--Data Transfornation (normalization) ----\n",
        "minmax is used for scaling down the features between the range of -1 and 1. This helps the model make better prediction as it is easy to understand. The scaling is applied to the training and testing set  --- You can try using z score normalization also"
      ]
    },
    {
      "cell_type": "code",
      "source": [
        "from sklearn.preprocessing import MinMaxScaler\n",
        "scaler = MinMaxScaler()\n",
        "dataTrain = scaler.fit_transform(dataTrain)"
      ],
      "metadata": {
        "id": "CQaU3e9377Sy"
      },
      "id": "CQaU3e9377Sy",
      "execution_count": null,
      "outputs": []
    },
    {
      "cell_type": "code",
      "execution_count": null,
      "id": "0268ef49-88ee-4904-9b0c-08f6a7aa81db",
      "metadata": {
        "id": "0268ef49-88ee-4904-9b0c-08f6a7aa81db"
      },
      "outputs": [],
      "source": [
        "dataTrain"
      ]
    },
    {
      "cell_type": "markdown",
      "id": "e967422e",
      "metadata": {
        "id": "e967422e"
      },
      "source": [
        "Dividing the data for training and testing accordingly. X takes the all features while Y takes the target variable\n"
      ]
    },
    {
      "cell_type": "code",
      "execution_count": null,
      "id": "09ee0d05",
      "metadata": {
        "id": "09ee0d05"
      },
      "outputs": [],
      "source": [
        "# Convert the NumPy array back into a Pandas DataFrame\n",
        "dataTrain = pd.DataFrame(dataTrain, columns=['Area', 'Bedrooms', 'Bathrooms', 'Floors','YearBuilt','Location', 'Condition', 'Price'])\n",
        "\n",
        "# Now you can use drop on dataTrain\n",
        "x_train=dataTrain.drop('Price',axis=1)\n",
        "y_train=dataTrain[['Price']]"
      ]
    },
    {
      "cell_type": "code",
      "source": [
        "#In case you have no separate testing data, use the following code\n",
        "from sklearn.model_selection import train_test_split\n",
        "x_train, x_test, y_train, y_test = train_test_split(x_train, y_train, test_size = 0.3, random_state = 0)\n",
        "#30% of the trainng data will be used for testing\n"
      ],
      "metadata": {
        "id": "pHc2xkgf7hsL"
      },
      "id": "pHc2xkgf7hsL",
      "execution_count": null,
      "outputs": []
    },
    {
      "cell_type": "code",
      "execution_count": null,
      "id": "9a9d4c5b-4f6f-458a-954d-e5f39edc98b9",
      "metadata": {
        "id": "9a9d4c5b-4f6f-458a-954d-e5f39edc98b9"
      },
      "outputs": [],
      "source": [
        "x_train.head()"
      ]
    },
    {
      "cell_type": "code",
      "execution_count": null,
      "id": "1749a95a-3849-4591-8861-2624defd7ce2",
      "metadata": {
        "id": "1749a95a-3849-4591-8861-2624defd7ce2"
      },
      "outputs": [],
      "source": [
        "y_train.head()"
      ]
    },
    {
      "cell_type": "code",
      "source": [
        "print(x_train.shape)\n",
        "print(y_train.shape)\n",
        "print(x_test.shape)\n",
        "print(y_test.shape)"
      ],
      "metadata": {
        "id": "9Qd2rVP3CCMh"
      },
      "id": "9Qd2rVP3CCMh",
      "execution_count": null,
      "outputs": []
    },
    {
      "cell_type": "markdown",
      "id": "b63657c0",
      "metadata": {
        "id": "b63657c0"
      },
      "source": [
        "## Fit Model\n",
        "### Multiple Linear Regression\n",
        "Calling multiple linear regression model and fitting the training set"
      ]
    },
    {
      "cell_type": "code",
      "execution_count": null,
      "id": "9a031199",
      "metadata": {
        "id": "9a031199"
      },
      "outputs": [],
      "source": [
        "from sklearn.linear_model import LinearRegression\n",
        "\n",
        "model = LinearRegression()\n",
        "model_mlr = model.fit(x_train,y_train)"
      ]
    },
    {
      "cell_type": "markdown",
      "id": "d90a9ba2",
      "metadata": {
        "id": "d90a9ba2"
      },
      "source": [
        "Making price prediction using the testing set (Fit to MLR)\n",
        "\n",
        "\n"
      ]
    },
    {
      "cell_type": "code",
      "execution_count": null,
      "id": "d176f727",
      "metadata": {
        "id": "d176f727"
      },
      "outputs": [],
      "source": [
        "y_pred1 = model_mlr.predict(x_test)\n"
      ]
    },
    {
      "cell_type": "markdown",
      "id": "0ef684eb",
      "metadata": {
        "id": "0ef684eb"
      },
      "source": [
        "### MLR Evaluation\n"
      ]
    },
    {
      "cell_type": "markdown",
      "id": "80f5a1de",
      "metadata": {
        "id": "80f5a1de"
      },
      "source": [
        "Calculating the Mean Square Error for MLR model"
      ]
    },
    {
      "cell_type": "code",
      "execution_count": null,
      "id": "c480ef01",
      "metadata": {
        "id": "c480ef01"
      },
      "outputs": [],
      "source": [
        "mse1 = mean_squared_error(y_test, y_pred1)\n",
        "print('The mean square error for Multiple Linear Regression: ', mse1)"
      ]
    },
    {
      "cell_type": "markdown",
      "id": "4128bd69",
      "metadata": {
        "id": "4128bd69"
      },
      "source": [
        "Calculating the Mean Absolute Error for MLR model"
      ]
    },
    {
      "cell_type": "code",
      "execution_count": null,
      "id": "ac76c78c",
      "metadata": {
        "id": "ac76c78c"
      },
      "outputs": [],
      "source": [
        "mae1= mean_absolute_error(y_test, y_pred1)\n",
        "print('The mean absolute error for Multiple Linear Regression: ', mae1)"
      ]
    },
    {
      "cell_type": "markdown",
      "id": "c677dec7",
      "metadata": {
        "id": "c677dec7"
      },
      "source": [
        "### Random Forest Regressor (checking other Models)\n",
        "Calling the random forest model and fitting the training data"
      ]
    },
    {
      "cell_type": "code",
      "execution_count": null,
      "id": "2f7dee27",
      "metadata": {
        "id": "2f7dee27"
      },
      "outputs": [],
      "source": [
        "rf = RandomForestRegressor()\n",
        "model_rf = rf.fit(x_train,y_train)"
      ]
    },
    {
      "cell_type": "markdown",
      "id": "5c08d0b3",
      "metadata": {
        "id": "5c08d0b3"
      },
      "source": [
        "Prediction of house prices using the testing data"
      ]
    },
    {
      "cell_type": "code",
      "execution_count": null,
      "id": "b85962cf",
      "metadata": {
        "id": "b85962cf"
      },
      "outputs": [],
      "source": [
        "y_pred2 = model_rf.predict(x_test)"
      ]
    },
    {
      "cell_type": "markdown",
      "id": "bf7b31db",
      "metadata": {
        "id": "bf7b31db"
      },
      "source": [
        "### Random Forest Evaluation\n"
      ]
    },
    {
      "cell_type": "markdown",
      "id": "d88ab2e0",
      "metadata": {
        "id": "d88ab2e0"
      },
      "source": [
        "Calculating the Mean Square Error for Random Forest Model (Lowest MSE value)"
      ]
    },
    {
      "cell_type": "code",
      "execution_count": null,
      "id": "3a923abb",
      "metadata": {
        "id": "3a923abb"
      },
      "outputs": [],
      "source": [
        "mse2 = mean_squared_error(y_test, y_pred2)\n",
        "print('The mean square error of price and predicted value is: ', mse2)"
      ]
    },
    {
      "cell_type": "markdown",
      "id": "e5587168",
      "metadata": {
        "id": "e5587168"
      },
      "source": [
        "Calculating the Mean Absolute Error for Random Forest Model (Lowest Mean Absolute Error)"
      ]
    },
    {
      "cell_type": "code",
      "execution_count": null,
      "id": "18862272",
      "metadata": {
        "id": "18862272"
      },
      "outputs": [],
      "source": [
        "mae2= mean_absolute_error(y_test, y_pred2)\n",
        "print('The mean absolute error of price and predicted value is: ', mae2)"
      ]
    },
    {
      "cell_type": "markdown",
      "id": "364f9bd9",
      "metadata": {
        "id": "364f9bd9"
      },
      "source": [
        "### LASSO Model\n",
        "Calling the model and fitting the training data"
      ]
    },
    {
      "cell_type": "code",
      "execution_count": null,
      "id": "77dff6fe",
      "metadata": {
        "id": "77dff6fe"
      },
      "outputs": [],
      "source": [
        "LassoModel = Lasso()\n",
        "model_lm = LassoModel.fit(x_train,y_train)"
      ]
    },
    {
      "cell_type": "markdown",
      "id": "ae4a5264",
      "metadata": {
        "id": "ae4a5264"
      },
      "source": [
        "Price prediction uisng testing data"
      ]
    },
    {
      "cell_type": "code",
      "execution_count": null,
      "id": "0bd51e54",
      "metadata": {
        "id": "0bd51e54"
      },
      "outputs": [],
      "source": [
        "y_pred3 = model_lm.predict(x_test)"
      ]
    },
    {
      "cell_type": "markdown",
      "id": "9d5d15ba",
      "metadata": {
        "id": "9d5d15ba"
      },
      "source": [
        "### LASSO Evaluation  (checking another model)\n"
      ]
    },
    {
      "cell_type": "markdown",
      "id": "16f14dc9",
      "metadata": {
        "id": "16f14dc9"
      },
      "source": [
        "Mean Absolute Error for LASSO Model"
      ]
    },
    {
      "cell_type": "code",
      "execution_count": null,
      "id": "160d9cf0",
      "metadata": {
        "id": "160d9cf0"
      },
      "outputs": [],
      "source": [
        "mae3= mean_absolute_error(y_test, y_pred3)\n",
        "print('The mean absolute error of price and predicted value is: ', mae3)"
      ]
    },
    {
      "cell_type": "markdown",
      "id": "072e474b",
      "metadata": {
        "id": "072e474b"
      },
      "source": [
        "Mean Squared Error for the LASSO Model"
      ]
    },
    {
      "cell_type": "code",
      "execution_count": null,
      "id": "0c4df792",
      "metadata": {
        "id": "0c4df792"
      },
      "outputs": [],
      "source": [
        "mse3 = mean_squared_error(y_test, y_pred3)\n",
        "print('The mean square error of price and predicted value is: ', mse3)"
      ]
    },
    {
      "cell_type": "code",
      "execution_count": null,
      "id": "bb2bee20",
      "metadata": {
        "id": "bb2bee20"
      },
      "outputs": [],
      "source": [
        "scores = [('MLR', mae1),\n",
        "          ('Random Forest', mae2),\n",
        "          ('LASSO', mae3)\n",
        "         ]"
      ]
    },
    {
      "cell_type": "code",
      "execution_count": null,
      "id": "b85712ee",
      "metadata": {
        "id": "b85712ee"
      },
      "outputs": [],
      "source": [
        "mae = pd.DataFrame(data = scores, columns=['Model', 'MAE Score'])\n",
        "mae"
      ]
    },
    {
      "cell_type": "code",
      "execution_count": null,
      "id": "c6c95dae",
      "metadata": {
        "id": "c6c95dae"
      },
      "outputs": [],
      "source": [
        "mae.sort_values(by=(['MAE Score']), ascending=False, inplace=True)\n",
        "\n",
        "f, axe = plt.subplots(1,1, figsize=(10,7))\n",
        "sns.barplot(x = mae['Model'], y=mae['MAE Score'], ax = axe)\n",
        "axe.set_xlabel('Model', size=20)\n",
        "axe.set_ylabel('Mean Absolute Error', size=20)\n",
        "\n",
        "plt.show()"
      ]
    },
    {
      "cell_type": "markdown",
      "id": "2509d6f1-e2a7-43dd-a98d-1ca84ed5b831",
      "metadata": {
        "id": "2509d6f1-e2a7-43dd-a98d-1ca84ed5b831"
      },
      "source": [
        "Based on the MAE, it is concluded that the MLR is the best regression model for predicting the house price based on the 7 predictor variables"
      ]
    },
    {
      "cell_type": "markdown",
      "source": [
        "**user** **interface**"
      ],
      "metadata": {
        "id": "TLxD0HJOBjAr"
      },
      "id": "TLxD0HJOBjAr"
    },
    {
      "cell_type": "markdown",
      "source": [],
      "metadata": {
        "id": "eBgaQxXBBlMk"
      },
      "id": "eBgaQxXBBlMk"
    },
    {
      "cell_type": "code",
      "source": [
        "\n",
        "import ipywidgets as widgets\n",
        "from IPython.display import display\n",
        "import pandas as pd\n",
        "\n",
        "# Assuming model_mlr is already trained\n",
        "# You will also need the scaler and label encoders used during training\n",
        "# to transform the user input correctly before passing it to the model.\n",
        "# Make sure you have kept track of these or retrain them on the original data\n",
        "# if you plan to deploy this interface later.\n",
        "\n",
        "# Create input widgets\n",
        "area_widget = widgets.FloatSlider(description=\"Area:\")\n",
        "bedrooms_widget = widgets.FloatSlider(description=\"Bedrooms:\")\n",
        "bathrooms_widget = widgets.FloatSlider(description=\"Bathrooms:\")\n",
        "floors_widget = widgets.FloatSlider(description=\"Floors:\")\n",
        "yearbuilt_widget = widgets.FloatSlider(description=\"YearBuilt:\")\n",
        "\n",
        "# For Location and Condition, you'll need the list of unique categories\n",
        "# from your training data to create the dropdown options.\n",
        "# Assuming you have stored the label encoders:\n",
        "# location_options = list(labelencoder_location.classes_)\n",
        "# condition_options = list(labelencoder_condition.classes_)\n",
        "# Replace with your actual label encoder objects and their classes\n",
        "location_options = ['Location A', 'Location B', 'Location C'] # Replace with actual locations\n",
        "condition_options = ['Poor', 'Fair', 'Good', 'Very Good', 'Excellent'] # Replace with actual conditions\n",
        "\n",
        "\n",
        "location_widget = widgets.Dropdown(options=location_options, description=\"Location:\")\n",
        "condition_widget = widgets.Dropdown(options=condition_options, description=\"Condition:\")\n",
        "\n",
        "\n",
        "predict_button = widgets.Button(description=\"Predict Price\")\n",
        "output_widget = widgets.Output()\n",
        "\n",
        "def predict_price(b):\n",
        "    with output_widget:\n",
        "        output_widget.clear_output()\n",
        "        try:\n",
        "            # Get input values from widgets\n",
        "            input_data = {\n",
        "                'Area': area_widget.value,\n",
        "                'Bedrooms': bedrooms_widget.value,\n",
        "                'Bathrooms': bathrooms_widget.value,\n",
        "                'Floors': floors_widget.value,\n",
        "                'YearBuilt': yearbuilt_widget.value,\n",
        "                'Location': location_widget.value,\n",
        "                'Condition': condition_widget.value\n",
        "            }\n",
        "\n",
        "            # Create a DataFrame from input data\n",
        "            input_df = pd.DataFrame([input_data])\n",
        "\n",
        "            # Apply the same preprocessing steps as done during training\n",
        "            # You need to apply label encoding and scaling here\n",
        "            # Make sure you use the same label encoders and scaler fitted on the training data\n",
        "\n",
        "            # Example (you need to replace this with your actual preprocessing):\n",
        "            # input_df['Location'] = labelencoder_location.transform(input_df['Location'])\n",
        "            # input_df['Condition'] = labelencoder_condition.transform(input_df['Condition'])\n",
        "            # input_scaled = scaler.transform(input_df)\n",
        "            # input_scaled_df = pd.DataFrame(input_scaled, columns=input_df.columns) # Keep column names\n",
        "\n",
        "            # For demonstration purposes, let's assume you skip preprocessing for now\n",
        "            # and pass the raw numerical input directly (this is not recommended for accurate predictions)\n",
        "            # You need to replace this with the correct preprocessing step\n",
        "\n",
        "            # Example with dummy preprocessing for demonstration:\n",
        "            preprocessed_input = pd.DataFrame([[\n",
        "                area_widget.value,\n",
        "                bedrooms_widget.value,\n",
        "                bathrooms_widget.value,\n",
        "                floors_widget.value,\n",
        "                yearbuilt_widget.value,\n",
        "                # You need to replace these with the actual encoded values\n",
        "                location_options.index(location_widget.value),\n",
        "                condition_options.index(condition_widget.value)\n",
        "            ]], columns=['Area', 'Bedrooms', 'Bathrooms', 'Floors','YearBuilt','Location', 'Condition'])\n",
        "\n",
        "            # Predict using the trained model\n",
        "            predicted_price = model_mlr.predict(preprocessed_input)[0][0]\n",
        "\n",
        "            print(f\"Predicted House Price: ${predicted_price:.2f}\")\n",
        "\n",
        "        except Exception as e:\n",
        "            print(f\"Error: {e}\")\n",
        "\n",
        "predict_button.on_click(predict_price)\n",
        "\n",
        "# Arrange widgets\n",
        "input_widgets = widgets.VBox([\n",
        "    area_widget,\n",
        "    bedrooms_widget,\n",
        "    bathrooms_widget,\n",
        "    floors_widget,\n",
        "    yearbuilt_widget,\n",
        "    location_widget,\n",
        "    condition_widget\n",
        "])\n",
        "\n",
        "ui = widgets.VBox([input_widgets, predict_button, output_widget])\n",
        "\n",
        "# Display the UI\n",
        "display(ui)"
      ],
      "metadata": {
        "id": "5Km7DCVnBsP6"
      },
      "id": "5Km7DCVnBsP6",
      "execution_count": null,
      "outputs": []
    }
  ],
  "metadata": {
    "kernelspec": {
      "display_name": "Python 3",
      "language": "python",
      "name": "python3"
    },
    "language_info": {
      "codemirror_mode": {
        "name": "ipython",
        "version": 3
      },
      "file_extension": ".py",
      "mimetype": "text/x-python",
      "name": "python",
      "nbconvert_exporter": "python",
      "pygments_lexer": "ipython3",
      "version": "3.7.12"
    },
    "colab": {
      "provenance": [],
      "include_colab_link": true
    }
  },
  "nbformat": 4,
  "nbformat_minor": 5
}